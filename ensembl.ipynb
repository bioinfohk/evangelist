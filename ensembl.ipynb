{
 "cells": [
  {
   "cell_type": "code",
   "execution_count": null,
   "metadata": {},
   "outputs": [],
   "source": [
    "import dna_puller.dna_puller as puller\n",
    "from gnuplot_generator.gnuplot_generator import GnuplotGenerator\n",
    "import os, csv, json, subprocess\n",
    "\n",
    "window_size = 1000 # size of sliding window\n",
    "csv_folders = 'csv' # folder where CSV folders are saved\n",
    "postfix = 'all' # postfix for charts (in case you create more charts in same path)"
   ]
  },
  {
   "cell_type": "code",
   "execution_count": null,
   "metadata": {},
   "outputs": [],
   "source": [
    "# List of all species pro analysis from Ensembl database \n",
    "species = [ 'Esox_lucius' ]\n",
    "\n",
    "puller = puller.DnaPuller(species, True, False, ['dna_sm'], True, window_size)\n",
    "puller.download_and_parse_data()"
   ]
  },
  {
   "cell_type": "code",
   "execution_count": null,
   "metadata": {},
   "outputs": [],
   "source": [
    "files = os.listdir('jsons')\n",
    "\n",
    "json_files = []\n",
    "\n",
    "for file in files:\n",
    "    if file[-5:] == '.json':\n",
    "        json_files.append(file)"
   ]
  },
  {
   "cell_type": "code",
   "execution_count": null,
   "metadata": {},
   "outputs": [],
   "source": [
    "for file in json_files:\n",
    "    name = file[:-5]\n",
    "    data = {}\n",
    "    os.makedirs('csv/' + name, exist_ok=True)\n",
    "    with open('jsons/' + file) as f:\n",
    "        data = json.load(f)\n",
    "    \n",
    "    \n",
    "    for lg, values in data['dna_sm'].items():\n",
    "        with open('csv/' + name + '/' + lg + '.csv', 'w', newline='') as csvfile:\n",
    "            csvwriter = csv.writer(csvfile, delimiter=' ',\n",
    "                                    quotechar='|', quoting=csv.QUOTE_MINIMAL)\n",
    "            for index, value in values.items():\n",
    "                gc_count = value['G'] + value['C'] + value['S'] + value['g'] + value['c'] + value['s']\n",
    "                all_count = value['all'] - value['N'] - value['n']\n",
    "\n",
    "                big_percent = 0 \n",
    "                if value['all_big'] > 0:\n",
    "                    big_percent = value['all_big'] / float(value['all'])\n",
    "\n",
    "                if all_count > 0:\n",
    "                    gc_val = gc_count/all_count\n",
    "\n",
    "                csvwriter.writerow([index, gc_val, big_percent])   "
   ]
  },
  {
   "cell_type": "code",
   "execution_count": null,
   "metadata": {},
   "outputs": [],
   "source": [
    "def file_len(fname):\n",
    "    p = subprocess.Popen(['wc', '-l', fname], stdout=subprocess.PIPE, \n",
    "                                              stderr=subprocess.PIPE)\n",
    "    result, err = p.communicate()\n",
    "    if p.returncode != 0:\n",
    "        raise IOError(err)\n",
    "    return int(result.strip().split()[0])\n",
    "\n",
    "folders = os.listdir(csv_folders)\n",
    "\n",
    "species_folders = []\n",
    "\n",
    "for folder in folders:\n",
    "    if folder[0] != '.':\n",
    "        species_folders.append(folder)\n",
    "\n",
    "files = {}\n",
    "biggest_files = {}\n",
    "sorted_files = {}\n",
    "for folder in species_folders:\n",
    "    biggest_files[folder] = 0\n",
    "    sorted_files[folder] = {}\n",
    "    csv_files = []\n",
    "    for file in os.listdir(csv_folders + '/' + folder):\n",
    "        if file[-4:] == '.csv':\n",
    "            csv_files.append(file)\n",
    "            \n",
    "            len_f =  file_len(csv_folders + '/' + folder + '/' + file)\n",
    "            sorted_files[folder][file] = len_f\n",
    "            if biggest_files[folder] < len_f * window_size:\n",
    "                biggest_files[folder] = len_f * window_size\n",
    "    files[folder] = csv_files \n",
    "    sorted_files[folder] = sorted(sorted_files[folder], key = sorted_files[folder].get, reverse=True)"
   ]
  },
  {
   "cell_type": "code",
   "execution_count": null,
   "metadata": {},
   "outputs": [],
   "source": [
    "def create_plot(fname):\n",
    "    p = subprocess.Popen(['gnuplot', '-p', fname], stdout=subprocess.PIPE, \n",
    "                                                   stderr=subprocess.PIPE)\n",
    "    result, err = p.communicate()\n",
    "    if p.returncode != 0:\n",
    "        raise IOError(err)\n",
    "\n",
    "for folder in species_folders:\n",
    "    range_plot = '[0:' + str(biggest_files[folder]) + ']'\n",
    "    gen = GnuplotGenerator(folder, range_plot)\n",
    "    gen.add_palette(\"( 0 'green', 50 'orange', 100 'red')\")\n",
    "    gen.set_term('png', 'plots_' + postfix + '/' + folder + '_' + postfix + '.png', 10000, 0.1)\n",
    "    \n",
    "    if not os.path.exists('plots_' + postfix):\n",
    "        os.makedirs('plots_' + postfix)\n",
    "    \n",
    "    for file in sorted_files[folder]:\n",
    "        gen.add_plot(csv_folders + '/' + folder + '/' + file, '1:2:3', file[:-4])\n",
    "    \n",
    "    with open(csv_folders + '/' + folder + '/' + folder + '_' + postfix + '.gnu', 'w') as gnu_file:\n",
    "        lines = gen.prepare_definition()\n",
    "        for line in lines:\n",
    "            gnu_file.write(line + '\\n')\n",
    "    \n",
    "    create_plot(csv_folders + '/' + folder + '/' + folder + '_' + postfix + '.gnu')"
   ]
  },
  {
   "cell_type": "code",
   "execution_count": null,
   "metadata": {},
   "outputs": [],
   "source": []
  }
 ],
 "metadata": {
  "kernelspec": {
   "display_name": "Python 3",
   "language": "python",
   "name": "python3"
  },
  "language_info": {
   "codemirror_mode": {
    "name": "ipython",
    "version": 3
   },
   "file_extension": ".py",
   "mimetype": "text/x-python",
   "name": "python",
   "nbconvert_exporter": "python",
   "pygments_lexer": "ipython3",
   "version": "3.7.3"
  }
 },
 "nbformat": 4,
 "nbformat_minor": 4
}
